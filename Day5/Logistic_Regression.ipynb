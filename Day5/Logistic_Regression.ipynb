{
 "cells": [
  {
   "cell_type": "markdown",
   "id": "6a269290",
   "metadata": {},
   "source": [
    "### Import Libraires"
   ]
  },
  {
   "cell_type": "code",
   "execution_count": 1,
   "id": "fb63c2d9",
   "metadata": {},
   "outputs": [],
   "source": [
    "import pandas as pd\n",
    "import numpy as np\n",
    "import matplotlib.pyplot as plt\n",
    "import seaborn as sns"
   ]
  },
  {
   "cell_type": "markdown",
   "id": "33107fc4",
   "metadata": {},
   "source": [
    "### Load Data"
   ]
  },
  {
   "cell_type": "code",
   "execution_count": 2,
   "id": "0439f400",
   "metadata": {},
   "outputs": [],
   "source": [
    "data = pd.read_csv('ai_assistant_usage_student_life.csv')"
   ]
  },
  {
   "cell_type": "code",
   "execution_count": 3,
   "id": "b6af21bd",
   "metadata": {},
   "outputs": [
    {
     "data": {
      "application/vnd.microsoft.datawrangler.viewer.v0+json": {
       "columns": [
        {
         "name": "index",
         "rawType": "int64",
         "type": "integer"
        },
        {
         "name": "SessionID",
         "rawType": "object",
         "type": "string"
        },
        {
         "name": "StudentLevel",
         "rawType": "object",
         "type": "string"
        },
        {
         "name": "Discipline",
         "rawType": "object",
         "type": "string"
        },
        {
         "name": "SessionDate",
         "rawType": "object",
         "type": "string"
        },
        {
         "name": "SessionLengthMin",
         "rawType": "float64",
         "type": "float"
        },
        {
         "name": "TotalPrompts",
         "rawType": "int64",
         "type": "integer"
        },
        {
         "name": "TaskType",
         "rawType": "object",
         "type": "string"
        },
        {
         "name": "AI_AssistanceLevel",
         "rawType": "int64",
         "type": "integer"
        },
        {
         "name": "FinalOutcome",
         "rawType": "object",
         "type": "string"
        },
        {
         "name": "UsedAgain",
         "rawType": "bool",
         "type": "boolean"
        },
        {
         "name": "SatisfactionRating",
         "rawType": "float64",
         "type": "float"
        }
       ],
       "ref": "5b0f1da0-5252-4169-b174-109769204abc",
       "rows": [
        [
         "0",
         "SESSION00001",
         "Undergraduate",
         "Computer Science",
         "2024-11-03",
         "31.2",
         "11",
         "Studying",
         "2",
         "Assignment Completed",
         "True",
         "1.0"
        ],
        [
         "1",
         "SESSION00002",
         "Undergraduate",
         "Psychology",
         "2024-08-25",
         "13.09",
         "6",
         "Studying",
         "3",
         "Assignment Completed",
         "True",
         "2.0"
        ],
        [
         "2",
         "SESSION00003",
         "Undergraduate",
         "Business",
         "2025-01-12",
         "19.22",
         "5",
         "Coding",
         "3",
         "Assignment Completed",
         "True",
         "3.3"
        ],
        [
         "3",
         "SESSION00004",
         "Undergraduate",
         "Computer Science",
         "2025-05-06",
         "3.7",
         "1",
         "Coding",
         "3",
         "Assignment Completed",
         "True",
         "3.5"
        ],
        [
         "4",
         "SESSION00005",
         "Undergraduate",
         "Psychology",
         "2025-03-18",
         "28.12",
         "9",
         "Writing",
         "3",
         "Assignment Completed",
         "True",
         "2.9"
        ]
       ],
       "shape": {
        "columns": 11,
        "rows": 5
       }
      },
      "text/html": [
       "<div>\n",
       "<style scoped>\n",
       "    .dataframe tbody tr th:only-of-type {\n",
       "        vertical-align: middle;\n",
       "    }\n",
       "\n",
       "    .dataframe tbody tr th {\n",
       "        vertical-align: top;\n",
       "    }\n",
       "\n",
       "    .dataframe thead th {\n",
       "        text-align: right;\n",
       "    }\n",
       "</style>\n",
       "<table border=\"1\" class=\"dataframe\">\n",
       "  <thead>\n",
       "    <tr style=\"text-align: right;\">\n",
       "      <th></th>\n",
       "      <th>SessionID</th>\n",
       "      <th>StudentLevel</th>\n",
       "      <th>Discipline</th>\n",
       "      <th>SessionDate</th>\n",
       "      <th>SessionLengthMin</th>\n",
       "      <th>TotalPrompts</th>\n",
       "      <th>TaskType</th>\n",
       "      <th>AI_AssistanceLevel</th>\n",
       "      <th>FinalOutcome</th>\n",
       "      <th>UsedAgain</th>\n",
       "      <th>SatisfactionRating</th>\n",
       "    </tr>\n",
       "  </thead>\n",
       "  <tbody>\n",
       "    <tr>\n",
       "      <th>0</th>\n",
       "      <td>SESSION00001</td>\n",
       "      <td>Undergraduate</td>\n",
       "      <td>Computer Science</td>\n",
       "      <td>2024-11-03</td>\n",
       "      <td>31.20</td>\n",
       "      <td>11</td>\n",
       "      <td>Studying</td>\n",
       "      <td>2</td>\n",
       "      <td>Assignment Completed</td>\n",
       "      <td>True</td>\n",
       "      <td>1.0</td>\n",
       "    </tr>\n",
       "    <tr>\n",
       "      <th>1</th>\n",
       "      <td>SESSION00002</td>\n",
       "      <td>Undergraduate</td>\n",
       "      <td>Psychology</td>\n",
       "      <td>2024-08-25</td>\n",
       "      <td>13.09</td>\n",
       "      <td>6</td>\n",
       "      <td>Studying</td>\n",
       "      <td>3</td>\n",
       "      <td>Assignment Completed</td>\n",
       "      <td>True</td>\n",
       "      <td>2.0</td>\n",
       "    </tr>\n",
       "    <tr>\n",
       "      <th>2</th>\n",
       "      <td>SESSION00003</td>\n",
       "      <td>Undergraduate</td>\n",
       "      <td>Business</td>\n",
       "      <td>2025-01-12</td>\n",
       "      <td>19.22</td>\n",
       "      <td>5</td>\n",
       "      <td>Coding</td>\n",
       "      <td>3</td>\n",
       "      <td>Assignment Completed</td>\n",
       "      <td>True</td>\n",
       "      <td>3.3</td>\n",
       "    </tr>\n",
       "    <tr>\n",
       "      <th>3</th>\n",
       "      <td>SESSION00004</td>\n",
       "      <td>Undergraduate</td>\n",
       "      <td>Computer Science</td>\n",
       "      <td>2025-05-06</td>\n",
       "      <td>3.70</td>\n",
       "      <td>1</td>\n",
       "      <td>Coding</td>\n",
       "      <td>3</td>\n",
       "      <td>Assignment Completed</td>\n",
       "      <td>True</td>\n",
       "      <td>3.5</td>\n",
       "    </tr>\n",
       "    <tr>\n",
       "      <th>4</th>\n",
       "      <td>SESSION00005</td>\n",
       "      <td>Undergraduate</td>\n",
       "      <td>Psychology</td>\n",
       "      <td>2025-03-18</td>\n",
       "      <td>28.12</td>\n",
       "      <td>9</td>\n",
       "      <td>Writing</td>\n",
       "      <td>3</td>\n",
       "      <td>Assignment Completed</td>\n",
       "      <td>True</td>\n",
       "      <td>2.9</td>\n",
       "    </tr>\n",
       "  </tbody>\n",
       "</table>\n",
       "</div>"
      ],
      "text/plain": [
       "      SessionID   StudentLevel        Discipline SessionDate  \\\n",
       "0  SESSION00001  Undergraduate  Computer Science  2024-11-03   \n",
       "1  SESSION00002  Undergraduate        Psychology  2024-08-25   \n",
       "2  SESSION00003  Undergraduate          Business  2025-01-12   \n",
       "3  SESSION00004  Undergraduate  Computer Science  2025-05-06   \n",
       "4  SESSION00005  Undergraduate        Psychology  2025-03-18   \n",
       "\n",
       "   SessionLengthMin  TotalPrompts  TaskType  AI_AssistanceLevel  \\\n",
       "0             31.20            11  Studying                   2   \n",
       "1             13.09             6  Studying                   3   \n",
       "2             19.22             5    Coding                   3   \n",
       "3              3.70             1    Coding                   3   \n",
       "4             28.12             9   Writing                   3   \n",
       "\n",
       "           FinalOutcome  UsedAgain  SatisfactionRating  \n",
       "0  Assignment Completed       True                 1.0  \n",
       "1  Assignment Completed       True                 2.0  \n",
       "2  Assignment Completed       True                 3.3  \n",
       "3  Assignment Completed       True                 3.5  \n",
       "4  Assignment Completed       True                 2.9  "
      ]
     },
     "execution_count": 3,
     "metadata": {},
     "output_type": "execute_result"
    }
   ],
   "source": [
    "data.head()"
   ]
  },
  {
   "cell_type": "code",
   "execution_count": 8,
   "id": "3d9ed4ce",
   "metadata": {},
   "outputs": [
    {
     "data": {
      "application/vnd.microsoft.datawrangler.viewer.v0+json": {
       "columns": [
        {
         "name": "index",
         "rawType": "int64",
         "type": "integer"
        },
        {
         "name": "SessionID",
         "rawType": "object",
         "type": "string"
        },
        {
         "name": "StudentLevel",
         "rawType": "object",
         "type": "string"
        },
        {
         "name": "Discipline",
         "rawType": "object",
         "type": "string"
        },
        {
         "name": "SessionDate",
         "rawType": "object",
         "type": "string"
        },
        {
         "name": "SessionLengthMin",
         "rawType": "float64",
         "type": "float"
        },
        {
         "name": "TotalPrompts",
         "rawType": "int64",
         "type": "integer"
        },
        {
         "name": "TaskType",
         "rawType": "object",
         "type": "string"
        },
        {
         "name": "AI_AssistanceLevel",
         "rawType": "int64",
         "type": "integer"
        },
        {
         "name": "FinalOutcome",
         "rawType": "object",
         "type": "string"
        },
        {
         "name": "UsedAgain",
         "rawType": "bool",
         "type": "boolean"
        },
        {
         "name": "SatisfactionRating",
         "rawType": "float64",
         "type": "float"
        }
       ],
       "ref": "a8a44587-8e0d-43fc-926b-9b301326fea9",
       "rows": [
        [
         "9995",
         "SESSION09996",
         "Undergraduate",
         "Psychology",
         "2024-07-20",
         "28.41",
         "5",
         "Studying",
         "3",
         "Assignment Completed",
         "True",
         "4.2"
        ],
        [
         "9996",
         "SESSION09997",
         "High School",
         "Business",
         "2024-11-11",
         "13.98",
         "6",
         "Writing",
         "5",
         "Assignment Completed",
         "True",
         "5.0"
        ],
        [
         "9997",
         "SESSION09998",
         "Undergraduate",
         "Biology",
         "2024-09-11",
         "10.78",
         "2",
         "Studying",
         "3",
         "Idea Drafted",
         "True",
         "3.5"
        ],
        [
         "9998",
         "SESSION09999",
         "Undergraduate",
         "Business",
         "2024-10-27",
         "30.88",
         "7",
         "Writing",
         "3",
         "Assignment Completed",
         "False",
         "4.3"
        ],
        [
         "9999",
         "SESSION10000",
         "Undergraduate",
         "Math",
         "2025-04-16",
         "10.85",
         "3",
         "Writing",
         "4",
         "Assignment Completed",
         "True",
         "4.9"
        ]
       ],
       "shape": {
        "columns": 11,
        "rows": 5
       }
      },
      "text/html": [
       "<div>\n",
       "<style scoped>\n",
       "    .dataframe tbody tr th:only-of-type {\n",
       "        vertical-align: middle;\n",
       "    }\n",
       "\n",
       "    .dataframe tbody tr th {\n",
       "        vertical-align: top;\n",
       "    }\n",
       "\n",
       "    .dataframe thead th {\n",
       "        text-align: right;\n",
       "    }\n",
       "</style>\n",
       "<table border=\"1\" class=\"dataframe\">\n",
       "  <thead>\n",
       "    <tr style=\"text-align: right;\">\n",
       "      <th></th>\n",
       "      <th>SessionID</th>\n",
       "      <th>StudentLevel</th>\n",
       "      <th>Discipline</th>\n",
       "      <th>SessionDate</th>\n",
       "      <th>SessionLengthMin</th>\n",
       "      <th>TotalPrompts</th>\n",
       "      <th>TaskType</th>\n",
       "      <th>AI_AssistanceLevel</th>\n",
       "      <th>FinalOutcome</th>\n",
       "      <th>UsedAgain</th>\n",
       "      <th>SatisfactionRating</th>\n",
       "    </tr>\n",
       "  </thead>\n",
       "  <tbody>\n",
       "    <tr>\n",
       "      <th>9995</th>\n",
       "      <td>SESSION09996</td>\n",
       "      <td>Undergraduate</td>\n",
       "      <td>Psychology</td>\n",
       "      <td>2024-07-20</td>\n",
       "      <td>28.41</td>\n",
       "      <td>5</td>\n",
       "      <td>Studying</td>\n",
       "      <td>3</td>\n",
       "      <td>Assignment Completed</td>\n",
       "      <td>True</td>\n",
       "      <td>4.2</td>\n",
       "    </tr>\n",
       "    <tr>\n",
       "      <th>9996</th>\n",
       "      <td>SESSION09997</td>\n",
       "      <td>High School</td>\n",
       "      <td>Business</td>\n",
       "      <td>2024-11-11</td>\n",
       "      <td>13.98</td>\n",
       "      <td>6</td>\n",
       "      <td>Writing</td>\n",
       "      <td>5</td>\n",
       "      <td>Assignment Completed</td>\n",
       "      <td>True</td>\n",
       "      <td>5.0</td>\n",
       "    </tr>\n",
       "    <tr>\n",
       "      <th>9997</th>\n",
       "      <td>SESSION09998</td>\n",
       "      <td>Undergraduate</td>\n",
       "      <td>Biology</td>\n",
       "      <td>2024-09-11</td>\n",
       "      <td>10.78</td>\n",
       "      <td>2</td>\n",
       "      <td>Studying</td>\n",
       "      <td>3</td>\n",
       "      <td>Idea Drafted</td>\n",
       "      <td>True</td>\n",
       "      <td>3.5</td>\n",
       "    </tr>\n",
       "    <tr>\n",
       "      <th>9998</th>\n",
       "      <td>SESSION09999</td>\n",
       "      <td>Undergraduate</td>\n",
       "      <td>Business</td>\n",
       "      <td>2024-10-27</td>\n",
       "      <td>30.88</td>\n",
       "      <td>7</td>\n",
       "      <td>Writing</td>\n",
       "      <td>3</td>\n",
       "      <td>Assignment Completed</td>\n",
       "      <td>False</td>\n",
       "      <td>4.3</td>\n",
       "    </tr>\n",
       "    <tr>\n",
       "      <th>9999</th>\n",
       "      <td>SESSION10000</td>\n",
       "      <td>Undergraduate</td>\n",
       "      <td>Math</td>\n",
       "      <td>2025-04-16</td>\n",
       "      <td>10.85</td>\n",
       "      <td>3</td>\n",
       "      <td>Writing</td>\n",
       "      <td>4</td>\n",
       "      <td>Assignment Completed</td>\n",
       "      <td>True</td>\n",
       "      <td>4.9</td>\n",
       "    </tr>\n",
       "  </tbody>\n",
       "</table>\n",
       "</div>"
      ],
      "text/plain": [
       "         SessionID   StudentLevel  Discipline SessionDate  SessionLengthMin  \\\n",
       "9995  SESSION09996  Undergraduate  Psychology  2024-07-20             28.41   \n",
       "9996  SESSION09997    High School    Business  2024-11-11             13.98   \n",
       "9997  SESSION09998  Undergraduate     Biology  2024-09-11             10.78   \n",
       "9998  SESSION09999  Undergraduate    Business  2024-10-27             30.88   \n",
       "9999  SESSION10000  Undergraduate        Math  2025-04-16             10.85   \n",
       "\n",
       "      TotalPrompts  TaskType  AI_AssistanceLevel          FinalOutcome  \\\n",
       "9995             5  Studying                   3  Assignment Completed   \n",
       "9996             6   Writing                   5  Assignment Completed   \n",
       "9997             2  Studying                   3          Idea Drafted   \n",
       "9998             7   Writing                   3  Assignment Completed   \n",
       "9999             3   Writing                   4  Assignment Completed   \n",
       "\n",
       "      UsedAgain  SatisfactionRating  \n",
       "9995       True                 4.2  \n",
       "9996       True                 5.0  \n",
       "9997       True                 3.5  \n",
       "9998      False                 4.3  \n",
       "9999       True                 4.9  "
      ]
     },
     "execution_count": 8,
     "metadata": {},
     "output_type": "execute_result"
    }
   ],
   "source": [
    "data.tail()"
   ]
  },
  {
   "cell_type": "code",
   "execution_count": 6,
   "id": "5ba15c92",
   "metadata": {},
   "outputs": [
    {
     "name": "stdout",
     "output_type": "stream",
     "text": [
      "<class 'pandas.core.frame.DataFrame'>\n",
      "RangeIndex: 10000 entries, 0 to 9999\n",
      "Data columns (total 11 columns):\n",
      " #   Column              Non-Null Count  Dtype  \n",
      "---  ------              --------------  -----  \n",
      " 0   SessionID           10000 non-null  object \n",
      " 1   StudentLevel        10000 non-null  object \n",
      " 2   Discipline          10000 non-null  object \n",
      " 3   SessionDate         10000 non-null  object \n",
      " 4   SessionLengthMin    10000 non-null  float64\n",
      " 5   TotalPrompts        10000 non-null  int64  \n",
      " 6   TaskType            10000 non-null  object \n",
      " 7   AI_AssistanceLevel  10000 non-null  int64  \n",
      " 8   FinalOutcome        10000 non-null  object \n",
      " 9   UsedAgain           10000 non-null  bool   \n",
      " 10  SatisfactionRating  10000 non-null  float64\n",
      "dtypes: bool(1), float64(2), int64(2), object(6)\n",
      "memory usage: 791.1+ KB\n"
     ]
    }
   ],
   "source": [
    "data.info()"
   ]
  },
  {
   "cell_type": "code",
   "execution_count": 7,
   "id": "4444033a",
   "metadata": {},
   "outputs": [
    {
     "data": {
      "application/vnd.microsoft.datawrangler.viewer.v0+json": {
       "columns": [
        {
         "name": "index",
         "rawType": "object",
         "type": "string"
        },
        {
         "name": "SessionLengthMin",
         "rawType": "float64",
         "type": "float"
        },
        {
         "name": "TotalPrompts",
         "rawType": "float64",
         "type": "float"
        },
        {
         "name": "AI_AssistanceLevel",
         "rawType": "float64",
         "type": "float"
        },
        {
         "name": "SatisfactionRating",
         "rawType": "float64",
         "type": "float"
        }
       ],
       "ref": "6572932c-4683-4984-a023-d02f617f6b6a",
       "rows": [
        [
         "count",
         "10000.0",
         "10000.0",
         "10000.0",
         "10000.0"
        ],
        [
         "mean",
         "19.846467",
         "5.6075",
         "3.4795",
         "3.4177800000000005"
        ],
        [
         "std",
         "13.89730198808984",
         "4.648763798095688",
         "0.9918054838584938",
         "1.1433313571573318"
        ],
        [
         "min",
         "0.03",
         "1.0",
         "1.0",
         "1.0"
        ],
        [
         "25%",
         "9.63",
         "2.0",
         "3.0",
         "2.6"
        ],
        [
         "50%",
         "16.65",
         "4.0",
         "4.0",
         "3.5"
        ],
        [
         "75%",
         "26.67",
         "8.0",
         "4.0",
         "4.4"
        ],
        [
         "max",
         "110.81",
         "39.0",
         "5.0",
         "5.0"
        ]
       ],
       "shape": {
        "columns": 4,
        "rows": 8
       }
      },
      "text/html": [
       "<div>\n",
       "<style scoped>\n",
       "    .dataframe tbody tr th:only-of-type {\n",
       "        vertical-align: middle;\n",
       "    }\n",
       "\n",
       "    .dataframe tbody tr th {\n",
       "        vertical-align: top;\n",
       "    }\n",
       "\n",
       "    .dataframe thead th {\n",
       "        text-align: right;\n",
       "    }\n",
       "</style>\n",
       "<table border=\"1\" class=\"dataframe\">\n",
       "  <thead>\n",
       "    <tr style=\"text-align: right;\">\n",
       "      <th></th>\n",
       "      <th>SessionLengthMin</th>\n",
       "      <th>TotalPrompts</th>\n",
       "      <th>AI_AssistanceLevel</th>\n",
       "      <th>SatisfactionRating</th>\n",
       "    </tr>\n",
       "  </thead>\n",
       "  <tbody>\n",
       "    <tr>\n",
       "      <th>count</th>\n",
       "      <td>10000.000000</td>\n",
       "      <td>10000.000000</td>\n",
       "      <td>10000.000000</td>\n",
       "      <td>10000.000000</td>\n",
       "    </tr>\n",
       "    <tr>\n",
       "      <th>mean</th>\n",
       "      <td>19.846467</td>\n",
       "      <td>5.607500</td>\n",
       "      <td>3.479500</td>\n",
       "      <td>3.417780</td>\n",
       "    </tr>\n",
       "    <tr>\n",
       "      <th>std</th>\n",
       "      <td>13.897302</td>\n",
       "      <td>4.648764</td>\n",
       "      <td>0.991805</td>\n",
       "      <td>1.143331</td>\n",
       "    </tr>\n",
       "    <tr>\n",
       "      <th>min</th>\n",
       "      <td>0.030000</td>\n",
       "      <td>1.000000</td>\n",
       "      <td>1.000000</td>\n",
       "      <td>1.000000</td>\n",
       "    </tr>\n",
       "    <tr>\n",
       "      <th>25%</th>\n",
       "      <td>9.630000</td>\n",
       "      <td>2.000000</td>\n",
       "      <td>3.000000</td>\n",
       "      <td>2.600000</td>\n",
       "    </tr>\n",
       "    <tr>\n",
       "      <th>50%</th>\n",
       "      <td>16.650000</td>\n",
       "      <td>4.000000</td>\n",
       "      <td>4.000000</td>\n",
       "      <td>3.500000</td>\n",
       "    </tr>\n",
       "    <tr>\n",
       "      <th>75%</th>\n",
       "      <td>26.670000</td>\n",
       "      <td>8.000000</td>\n",
       "      <td>4.000000</td>\n",
       "      <td>4.400000</td>\n",
       "    </tr>\n",
       "    <tr>\n",
       "      <th>max</th>\n",
       "      <td>110.810000</td>\n",
       "      <td>39.000000</td>\n",
       "      <td>5.000000</td>\n",
       "      <td>5.000000</td>\n",
       "    </tr>\n",
       "  </tbody>\n",
       "</table>\n",
       "</div>"
      ],
      "text/plain": [
       "       SessionLengthMin  TotalPrompts  AI_AssistanceLevel  SatisfactionRating\n",
       "count      10000.000000  10000.000000        10000.000000        10000.000000\n",
       "mean          19.846467      5.607500            3.479500            3.417780\n",
       "std           13.897302      4.648764            0.991805            1.143331\n",
       "min            0.030000      1.000000            1.000000            1.000000\n",
       "25%            9.630000      2.000000            3.000000            2.600000\n",
       "50%           16.650000      4.000000            4.000000            3.500000\n",
       "75%           26.670000      8.000000            4.000000            4.400000\n",
       "max          110.810000     39.000000            5.000000            5.000000"
      ]
     },
     "execution_count": 7,
     "metadata": {},
     "output_type": "execute_result"
    }
   ],
   "source": [
    "data.describe()"
   ]
  },
  {
   "cell_type": "code",
   "execution_count": 9,
   "id": "00fa339d",
   "metadata": {},
   "outputs": [
    {
     "data": {
      "application/vnd.microsoft.datawrangler.viewer.v0+json": {
       "columns": [
        {
         "name": "index",
         "rawType": "object",
         "type": "string"
        },
        {
         "name": "0",
         "rawType": "int64",
         "type": "integer"
        }
       ],
       "ref": "ef5e6ee9-72d3-472c-b6d1-5b2ca9865a26",
       "rows": [
        [
         "SessionID",
         "0"
        ],
        [
         "StudentLevel",
         "0"
        ],
        [
         "Discipline",
         "0"
        ],
        [
         "SessionDate",
         "0"
        ],
        [
         "SessionLengthMin",
         "0"
        ],
        [
         "TotalPrompts",
         "0"
        ],
        [
         "TaskType",
         "0"
        ],
        [
         "AI_AssistanceLevel",
         "0"
        ],
        [
         "FinalOutcome",
         "0"
        ],
        [
         "UsedAgain",
         "0"
        ],
        [
         "SatisfactionRating",
         "0"
        ]
       ],
       "shape": {
        "columns": 1,
        "rows": 11
       }
      },
      "text/plain": [
       "SessionID             0\n",
       "StudentLevel          0\n",
       "Discipline            0\n",
       "SessionDate           0\n",
       "SessionLengthMin      0\n",
       "TotalPrompts          0\n",
       "TaskType              0\n",
       "AI_AssistanceLevel    0\n",
       "FinalOutcome          0\n",
       "UsedAgain             0\n",
       "SatisfactionRating    0\n",
       "dtype: int64"
      ]
     },
     "execution_count": 9,
     "metadata": {},
     "output_type": "execute_result"
    }
   ],
   "source": [
    "data.isnull().sum()"
   ]
  },
  {
   "cell_type": "code",
   "execution_count": 10,
   "id": "5dd739a1",
   "metadata": {},
   "outputs": [
    {
     "data": {
      "text/plain": [
       "np.int64(0)"
      ]
     },
     "execution_count": 10,
     "metadata": {},
     "output_type": "execute_result"
    }
   ],
   "source": [
    "data.duplicated().sum()"
   ]
  },
  {
   "cell_type": "markdown",
   "id": "0339bb1a",
   "metadata": {},
   "source": [
    "### Preprocessing"
   ]
  },
  {
   "cell_type": "code",
   "execution_count": 11,
   "id": "db195962",
   "metadata": {},
   "outputs": [],
   "source": [
    "from sklearn.preprocessing import LabelEncoder\n",
    "label_encoders = {}\n",
    "categorical_cols = ['StudentLevel', 'Discipline' , 'TaskType', 'FinalOutcome']\n",
    "for col in categorical_cols:\n",
    "    le = LabelEncoder()\n",
    "    data[col] = le.fit_transform(data[col])\n",
    "    label_encoders[col] = le"
   ]
  },
  {
   "cell_type": "code",
   "execution_count": 12,
   "id": "3358d319",
   "metadata": {},
   "outputs": [
    {
     "data": {
      "application/vnd.microsoft.datawrangler.viewer.v0+json": {
       "columns": [
        {
         "name": "index",
         "rawType": "int64",
         "type": "integer"
        },
        {
         "name": "SessionID",
         "rawType": "object",
         "type": "string"
        },
        {
         "name": "StudentLevel",
         "rawType": "int64",
         "type": "integer"
        },
        {
         "name": "Discipline",
         "rawType": "int64",
         "type": "integer"
        },
        {
         "name": "SessionDate",
         "rawType": "object",
         "type": "string"
        },
        {
         "name": "SessionLengthMin",
         "rawType": "float64",
         "type": "float"
        },
        {
         "name": "TotalPrompts",
         "rawType": "int64",
         "type": "integer"
        },
        {
         "name": "TaskType",
         "rawType": "int64",
         "type": "integer"
        },
        {
         "name": "AI_AssistanceLevel",
         "rawType": "int64",
         "type": "integer"
        },
        {
         "name": "FinalOutcome",
         "rawType": "int64",
         "type": "integer"
        },
        {
         "name": "UsedAgain",
         "rawType": "bool",
         "type": "boolean"
        },
        {
         "name": "SatisfactionRating",
         "rawType": "float64",
         "type": "float"
        }
       ],
       "ref": "661cdaba-edb3-4c8c-9b28-7b3b40979037",
       "rows": [
        [
         "0",
         "SESSION00001",
         "2",
         "2",
         "2024-11-03",
         "31.2",
         "11",
         "4",
         "2",
         "0",
         "True",
         "1.0"
        ],
        [
         "1",
         "SESSION00002",
         "2",
         "6",
         "2024-08-25",
         "13.09",
         "6",
         "4",
         "3",
         "0",
         "True",
         "2.0"
        ],
        [
         "2",
         "SESSION00003",
         "2",
         "1",
         "2025-01-12",
         "19.22",
         "5",
         "1",
         "3",
         "0",
         "True",
         "3.3"
        ],
        [
         "3",
         "SESSION00004",
         "2",
         "2",
         "2025-05-06",
         "3.7",
         "1",
         "1",
         "3",
         "0",
         "True",
         "3.5"
        ],
        [
         "4",
         "SESSION00005",
         "2",
         "6",
         "2025-03-18",
         "28.12",
         "9",
         "5",
         "3",
         "0",
         "True",
         "2.9"
        ]
       ],
       "shape": {
        "columns": 11,
        "rows": 5
       }
      },
      "text/html": [
       "<div>\n",
       "<style scoped>\n",
       "    .dataframe tbody tr th:only-of-type {\n",
       "        vertical-align: middle;\n",
       "    }\n",
       "\n",
       "    .dataframe tbody tr th {\n",
       "        vertical-align: top;\n",
       "    }\n",
       "\n",
       "    .dataframe thead th {\n",
       "        text-align: right;\n",
       "    }\n",
       "</style>\n",
       "<table border=\"1\" class=\"dataframe\">\n",
       "  <thead>\n",
       "    <tr style=\"text-align: right;\">\n",
       "      <th></th>\n",
       "      <th>SessionID</th>\n",
       "      <th>StudentLevel</th>\n",
       "      <th>Discipline</th>\n",
       "      <th>SessionDate</th>\n",
       "      <th>SessionLengthMin</th>\n",
       "      <th>TotalPrompts</th>\n",
       "      <th>TaskType</th>\n",
       "      <th>AI_AssistanceLevel</th>\n",
       "      <th>FinalOutcome</th>\n",
       "      <th>UsedAgain</th>\n",
       "      <th>SatisfactionRating</th>\n",
       "    </tr>\n",
       "  </thead>\n",
       "  <tbody>\n",
       "    <tr>\n",
       "      <th>0</th>\n",
       "      <td>SESSION00001</td>\n",
       "      <td>2</td>\n",
       "      <td>2</td>\n",
       "      <td>2024-11-03</td>\n",
       "      <td>31.20</td>\n",
       "      <td>11</td>\n",
       "      <td>4</td>\n",
       "      <td>2</td>\n",
       "      <td>0</td>\n",
       "      <td>True</td>\n",
       "      <td>1.0</td>\n",
       "    </tr>\n",
       "    <tr>\n",
       "      <th>1</th>\n",
       "      <td>SESSION00002</td>\n",
       "      <td>2</td>\n",
       "      <td>6</td>\n",
       "      <td>2024-08-25</td>\n",
       "      <td>13.09</td>\n",
       "      <td>6</td>\n",
       "      <td>4</td>\n",
       "      <td>3</td>\n",
       "      <td>0</td>\n",
       "      <td>True</td>\n",
       "      <td>2.0</td>\n",
       "    </tr>\n",
       "    <tr>\n",
       "      <th>2</th>\n",
       "      <td>SESSION00003</td>\n",
       "      <td>2</td>\n",
       "      <td>1</td>\n",
       "      <td>2025-01-12</td>\n",
       "      <td>19.22</td>\n",
       "      <td>5</td>\n",
       "      <td>1</td>\n",
       "      <td>3</td>\n",
       "      <td>0</td>\n",
       "      <td>True</td>\n",
       "      <td>3.3</td>\n",
       "    </tr>\n",
       "    <tr>\n",
       "      <th>3</th>\n",
       "      <td>SESSION00004</td>\n",
       "      <td>2</td>\n",
       "      <td>2</td>\n",
       "      <td>2025-05-06</td>\n",
       "      <td>3.70</td>\n",
       "      <td>1</td>\n",
       "      <td>1</td>\n",
       "      <td>3</td>\n",
       "      <td>0</td>\n",
       "      <td>True</td>\n",
       "      <td>3.5</td>\n",
       "    </tr>\n",
       "    <tr>\n",
       "      <th>4</th>\n",
       "      <td>SESSION00005</td>\n",
       "      <td>2</td>\n",
       "      <td>6</td>\n",
       "      <td>2025-03-18</td>\n",
       "      <td>28.12</td>\n",
       "      <td>9</td>\n",
       "      <td>5</td>\n",
       "      <td>3</td>\n",
       "      <td>0</td>\n",
       "      <td>True</td>\n",
       "      <td>2.9</td>\n",
       "    </tr>\n",
       "  </tbody>\n",
       "</table>\n",
       "</div>"
      ],
      "text/plain": [
       "      SessionID  StudentLevel  Discipline SessionDate  SessionLengthMin  \\\n",
       "0  SESSION00001             2           2  2024-11-03             31.20   \n",
       "1  SESSION00002             2           6  2024-08-25             13.09   \n",
       "2  SESSION00003             2           1  2025-01-12             19.22   \n",
       "3  SESSION00004             2           2  2025-05-06              3.70   \n",
       "4  SESSION00005             2           6  2025-03-18             28.12   \n",
       "\n",
       "   TotalPrompts  TaskType  AI_AssistanceLevel  FinalOutcome  UsedAgain  \\\n",
       "0            11         4                   2             0       True   \n",
       "1             6         4                   3             0       True   \n",
       "2             5         1                   3             0       True   \n",
       "3             1         1                   3             0       True   \n",
       "4             9         5                   3             0       True   \n",
       "\n",
       "   SatisfactionRating  \n",
       "0                 1.0  \n",
       "1                 2.0  \n",
       "2                 3.3  \n",
       "3                 3.5  \n",
       "4                 2.9  "
      ]
     },
     "execution_count": 12,
     "metadata": {},
     "output_type": "execute_result"
    }
   ],
   "source": [
    "data.head()"
   ]
  },
  {
   "cell_type": "code",
   "execution_count": 13,
   "id": "490dbd31",
   "metadata": {},
   "outputs": [],
   "source": [
    "data['UsedAgain'] = data['UsedAgain'].astype(int)"
   ]
  },
  {
   "cell_type": "code",
   "execution_count": 14,
   "id": "be59d269",
   "metadata": {},
   "outputs": [
    {
     "data": {
      "application/vnd.microsoft.datawrangler.viewer.v0+json": {
       "columns": [
        {
         "name": "index",
         "rawType": "int64",
         "type": "integer"
        },
        {
         "name": "SessionID",
         "rawType": "object",
         "type": "string"
        },
        {
         "name": "StudentLevel",
         "rawType": "int64",
         "type": "integer"
        },
        {
         "name": "Discipline",
         "rawType": "int64",
         "type": "integer"
        },
        {
         "name": "SessionDate",
         "rawType": "object",
         "type": "string"
        },
        {
         "name": "SessionLengthMin",
         "rawType": "float64",
         "type": "float"
        },
        {
         "name": "TotalPrompts",
         "rawType": "int64",
         "type": "integer"
        },
        {
         "name": "TaskType",
         "rawType": "int64",
         "type": "integer"
        },
        {
         "name": "AI_AssistanceLevel",
         "rawType": "int64",
         "type": "integer"
        },
        {
         "name": "FinalOutcome",
         "rawType": "int64",
         "type": "integer"
        },
        {
         "name": "UsedAgain",
         "rawType": "int64",
         "type": "integer"
        },
        {
         "name": "SatisfactionRating",
         "rawType": "float64",
         "type": "float"
        }
       ],
       "ref": "347c0b16-fea2-45ed-9add-6c538fab13bb",
       "rows": [
        [
         "0",
         "SESSION00001",
         "2",
         "2",
         "2024-11-03",
         "31.2",
         "11",
         "4",
         "2",
         "0",
         "1",
         "1.0"
        ],
        [
         "1",
         "SESSION00002",
         "2",
         "6",
         "2024-08-25",
         "13.09",
         "6",
         "4",
         "3",
         "0",
         "1",
         "2.0"
        ],
        [
         "2",
         "SESSION00003",
         "2",
         "1",
         "2025-01-12",
         "19.22",
         "5",
         "1",
         "3",
         "0",
         "1",
         "3.3"
        ],
        [
         "3",
         "SESSION00004",
         "2",
         "2",
         "2025-05-06",
         "3.7",
         "1",
         "1",
         "3",
         "0",
         "1",
         "3.5"
        ],
        [
         "4",
         "SESSION00005",
         "2",
         "6",
         "2025-03-18",
         "28.12",
         "9",
         "5",
         "3",
         "0",
         "1",
         "2.9"
        ]
       ],
       "shape": {
        "columns": 11,
        "rows": 5
       }
      },
      "text/html": [
       "<div>\n",
       "<style scoped>\n",
       "    .dataframe tbody tr th:only-of-type {\n",
       "        vertical-align: middle;\n",
       "    }\n",
       "\n",
       "    .dataframe tbody tr th {\n",
       "        vertical-align: top;\n",
       "    }\n",
       "\n",
       "    .dataframe thead th {\n",
       "        text-align: right;\n",
       "    }\n",
       "</style>\n",
       "<table border=\"1\" class=\"dataframe\">\n",
       "  <thead>\n",
       "    <tr style=\"text-align: right;\">\n",
       "      <th></th>\n",
       "      <th>SessionID</th>\n",
       "      <th>StudentLevel</th>\n",
       "      <th>Discipline</th>\n",
       "      <th>SessionDate</th>\n",
       "      <th>SessionLengthMin</th>\n",
       "      <th>TotalPrompts</th>\n",
       "      <th>TaskType</th>\n",
       "      <th>AI_AssistanceLevel</th>\n",
       "      <th>FinalOutcome</th>\n",
       "      <th>UsedAgain</th>\n",
       "      <th>SatisfactionRating</th>\n",
       "    </tr>\n",
       "  </thead>\n",
       "  <tbody>\n",
       "    <tr>\n",
       "      <th>0</th>\n",
       "      <td>SESSION00001</td>\n",
       "      <td>2</td>\n",
       "      <td>2</td>\n",
       "      <td>2024-11-03</td>\n",
       "      <td>31.20</td>\n",
       "      <td>11</td>\n",
       "      <td>4</td>\n",
       "      <td>2</td>\n",
       "      <td>0</td>\n",
       "      <td>1</td>\n",
       "      <td>1.0</td>\n",
       "    </tr>\n",
       "    <tr>\n",
       "      <th>1</th>\n",
       "      <td>SESSION00002</td>\n",
       "      <td>2</td>\n",
       "      <td>6</td>\n",
       "      <td>2024-08-25</td>\n",
       "      <td>13.09</td>\n",
       "      <td>6</td>\n",
       "      <td>4</td>\n",
       "      <td>3</td>\n",
       "      <td>0</td>\n",
       "      <td>1</td>\n",
       "      <td>2.0</td>\n",
       "    </tr>\n",
       "    <tr>\n",
       "      <th>2</th>\n",
       "      <td>SESSION00003</td>\n",
       "      <td>2</td>\n",
       "      <td>1</td>\n",
       "      <td>2025-01-12</td>\n",
       "      <td>19.22</td>\n",
       "      <td>5</td>\n",
       "      <td>1</td>\n",
       "      <td>3</td>\n",
       "      <td>0</td>\n",
       "      <td>1</td>\n",
       "      <td>3.3</td>\n",
       "    </tr>\n",
       "    <tr>\n",
       "      <th>3</th>\n",
       "      <td>SESSION00004</td>\n",
       "      <td>2</td>\n",
       "      <td>2</td>\n",
       "      <td>2025-05-06</td>\n",
       "      <td>3.70</td>\n",
       "      <td>1</td>\n",
       "      <td>1</td>\n",
       "      <td>3</td>\n",
       "      <td>0</td>\n",
       "      <td>1</td>\n",
       "      <td>3.5</td>\n",
       "    </tr>\n",
       "    <tr>\n",
       "      <th>4</th>\n",
       "      <td>SESSION00005</td>\n",
       "      <td>2</td>\n",
       "      <td>6</td>\n",
       "      <td>2025-03-18</td>\n",
       "      <td>28.12</td>\n",
       "      <td>9</td>\n",
       "      <td>5</td>\n",
       "      <td>3</td>\n",
       "      <td>0</td>\n",
       "      <td>1</td>\n",
       "      <td>2.9</td>\n",
       "    </tr>\n",
       "  </tbody>\n",
       "</table>\n",
       "</div>"
      ],
      "text/plain": [
       "      SessionID  StudentLevel  Discipline SessionDate  SessionLengthMin  \\\n",
       "0  SESSION00001             2           2  2024-11-03             31.20   \n",
       "1  SESSION00002             2           6  2024-08-25             13.09   \n",
       "2  SESSION00003             2           1  2025-01-12             19.22   \n",
       "3  SESSION00004             2           2  2025-05-06              3.70   \n",
       "4  SESSION00005             2           6  2025-03-18             28.12   \n",
       "\n",
       "   TotalPrompts  TaskType  AI_AssistanceLevel  FinalOutcome  UsedAgain  \\\n",
       "0            11         4                   2             0          1   \n",
       "1             6         4                   3             0          1   \n",
       "2             5         1                   3             0          1   \n",
       "3             1         1                   3             0          1   \n",
       "4             9         5                   3             0          1   \n",
       "\n",
       "   SatisfactionRating  \n",
       "0                 1.0  \n",
       "1                 2.0  \n",
       "2                 3.3  \n",
       "3                 3.5  \n",
       "4                 2.9  "
      ]
     },
     "execution_count": 14,
     "metadata": {},
     "output_type": "execute_result"
    }
   ],
   "source": [
    "data.head()"
   ]
  },
  {
   "cell_type": "markdown",
   "id": "e1bcdb14",
   "metadata": {},
   "source": [
    "### Split Data"
   ]
  },
  {
   "cell_type": "code",
   "execution_count": 16,
   "id": "888393c3",
   "metadata": {},
   "outputs": [],
   "source": [
    "x = data.drop(['SessionID', 'SessionDate', 'UsedAgain'], axis = 1)\n",
    "y = data['UsedAgain']"
   ]
  },
  {
   "cell_type": "code",
   "execution_count": 17,
   "id": "20e71e51",
   "metadata": {},
   "outputs": [],
   "source": [
    "from sklearn.model_selection import train_test_split\n",
    "x_train , x_test , y_train , y_test = train_test_split(x,y, test_size= 0.3 , random_state= 42)"
   ]
  },
  {
   "cell_type": "code",
   "execution_count": 19,
   "id": "da108d68",
   "metadata": {},
   "outputs": [
    {
     "data": {
      "application/vnd.microsoft.datawrangler.viewer.v0+json": {
       "columns": [
        {
         "name": "index",
         "rawType": "object",
         "type": "string"
        },
        {
         "name": "0",
         "rawType": "float64",
         "type": "float"
        }
       ],
       "ref": "310acae9-f3bc-4429-aeba-bccefd3d61a7",
       "rows": [
        [
         "StudentLevel",
         "2.0"
        ],
        [
         "Discipline",
         "6.0"
        ],
        [
         "SessionLengthMin",
         "110.81"
        ],
        [
         "TotalPrompts",
         "39.0"
        ],
        [
         "TaskType",
         "5.0"
        ],
        [
         "AI_AssistanceLevel",
         "5.0"
        ],
        [
         "FinalOutcome",
         "3.0"
        ],
        [
         "SatisfactionRating",
         "5.0"
        ]
       ],
       "shape": {
        "columns": 1,
        "rows": 8
       }
      },
      "text/plain": [
       "StudentLevel            2.00\n",
       "Discipline              6.00\n",
       "SessionLengthMin      110.81\n",
       "TotalPrompts           39.00\n",
       "TaskType                5.00\n",
       "AI_AssistanceLevel      5.00\n",
       "FinalOutcome            3.00\n",
       "SatisfactionRating      5.00\n",
       "dtype: float64"
      ]
     },
     "execution_count": 19,
     "metadata": {},
     "output_type": "execute_result"
    }
   ],
   "source": [
    "x_train.max()"
   ]
  },
  {
   "cell_type": "code",
   "execution_count": 20,
   "id": "935b2df9",
   "metadata": {},
   "outputs": [
    {
     "data": {
      "application/vnd.microsoft.datawrangler.viewer.v0+json": {
       "columns": [
        {
         "name": "index",
         "rawType": "object",
         "type": "string"
        },
        {
         "name": "0",
         "rawType": "float64",
         "type": "float"
        }
       ],
       "ref": "898ba4b2-96c0-4075-8180-8787e26b17f7",
       "rows": [
        [
         "StudentLevel",
         "2.0"
        ],
        [
         "Discipline",
         "6.0"
        ],
        [
         "SessionLengthMin",
         "92.76"
        ],
        [
         "TotalPrompts",
         "34.0"
        ],
        [
         "TaskType",
         "5.0"
        ],
        [
         "AI_AssistanceLevel",
         "5.0"
        ],
        [
         "FinalOutcome",
         "3.0"
        ],
        [
         "SatisfactionRating",
         "5.0"
        ]
       ],
       "shape": {
        "columns": 1,
        "rows": 8
       }
      },
      "text/plain": [
       "StudentLevel           2.00\n",
       "Discipline             6.00\n",
       "SessionLengthMin      92.76\n",
       "TotalPrompts          34.00\n",
       "TaskType               5.00\n",
       "AI_AssistanceLevel     5.00\n",
       "FinalOutcome           3.00\n",
       "SatisfactionRating     5.00\n",
       "dtype: float64"
      ]
     },
     "execution_count": 20,
     "metadata": {},
     "output_type": "execute_result"
    }
   ],
   "source": [
    "x_test.max()"
   ]
  },
  {
   "cell_type": "code",
   "execution_count": 21,
   "id": "6b871524",
   "metadata": {},
   "outputs": [],
   "source": [
    "from sklearn.preprocessing import StandardScaler\n",
    "scaler = StandardScaler()\n",
    "x_train_scaled = scaler.fit_transform(x_train)\n",
    "x_test_scaled = scaler.transform(x_test)"
   ]
  },
  {
   "cell_type": "markdown",
   "id": "cd5b4f38",
   "metadata": {},
   "source": [
    "### Build Model"
   ]
  },
  {
   "cell_type": "code",
   "execution_count": 26,
   "id": "b3808afb",
   "metadata": {},
   "outputs": [],
   "source": [
    "from sklearn.linear_model import LogisticRegression\n",
    "model = LogisticRegression(max_iter=1000, random_state=42)\n",
    "model.fit(x_train_scaled ,y_train)\n",
    "y_pred = model.predict(x_test_scaled)"
   ]
  },
  {
   "cell_type": "markdown",
   "id": "1ebcbbce",
   "metadata": {},
   "source": [
    "### Evaluation"
   ]
  },
  {
   "cell_type": "code",
   "execution_count": 28,
   "id": "9b64e2db",
   "metadata": {},
   "outputs": [
    {
     "name": "stderr",
     "output_type": "stream",
     "text": [
      "c:\\Users\\Ramo\\AppData\\Local\\Programs\\Python\\Python310\\lib\\site-packages\\sklearn\\metrics\\_classification.py:1565: UndefinedMetricWarning: Precision is ill-defined and being set to 0.0 in labels with no predicted samples. Use `zero_division` parameter to control this behavior.\n",
      "  _warn_prf(average, modifier, f\"{metric.capitalize()} is\", len(result))\n",
      "c:\\Users\\Ramo\\AppData\\Local\\Programs\\Python\\Python310\\lib\\site-packages\\sklearn\\metrics\\_classification.py:1565: UndefinedMetricWarning: Precision is ill-defined and being set to 0.0 in labels with no predicted samples. Use `zero_division` parameter to control this behavior.\n",
      "  _warn_prf(average, modifier, f\"{metric.capitalize()} is\", len(result))\n",
      "c:\\Users\\Ramo\\AppData\\Local\\Programs\\Python\\Python310\\lib\\site-packages\\sklearn\\metrics\\_classification.py:1565: UndefinedMetricWarning: Precision is ill-defined and being set to 0.0 in labels with no predicted samples. Use `zero_division` parameter to control this behavior.\n",
      "  _warn_prf(average, modifier, f\"{metric.capitalize()} is\", len(result))\n"
     ]
    }
   ],
   "source": [
    "from sklearn.metrics import accuracy_score, classification_report, confusion_matrix\n",
    "accuracy = accuracy_score(y_test ,y_pred)\n",
    "class_re =classification_report(y_test, y_pred)"
   ]
  },
  {
   "cell_type": "code",
   "execution_count": 29,
   "id": "c94c41fb",
   "metadata": {},
   "outputs": [
    {
     "name": "stdout",
     "output_type": "stream",
     "text": [
      "accuracy :  0.703\n",
      "classification_report :                precision    recall  f1-score   support\n",
      "\n",
      "           0       0.00      0.00      0.00       891\n",
      "           1       0.70      1.00      0.83      2109\n",
      "\n",
      "    accuracy                           0.70      3000\n",
      "   macro avg       0.35      0.50      0.41      3000\n",
      "weighted avg       0.49      0.70      0.58      3000\n",
      "\n"
     ]
    }
   ],
   "source": [
    "print('accuracy : ' , accuracy)\n",
    "print('classification_report : ', class_re)"
   ]
  },
  {
   "cell_type": "code",
   "execution_count": 30,
   "id": "6669ac48",
   "metadata": {},
   "outputs": [
    {
     "data": {
      "image/png": "[encoded data removed]",
      "text/plain": [
       "<Figure size 800x600 with 2 Axes>"
      ]
     },
     "metadata": {},
     "output_type": "display_data"
    }
   ],
   "source": [
    "conf_matrix = confusion_matrix(y_test, y_pred)\n",
    "plt.figure(figsize=(8, 6))\n",
    "sns.heatmap(conf_matrix, annot=True, fmt='d', cmap='Blues',\n",
    "            xticklabels=['Not Reused', 'Reused'],\n",
    "            yticklabels=['Not Reused', 'Reused'])\n",
    "plt.xlabel('Predicted')\n",
    "plt.ylabel('Actual')\n",
    "plt.title('Confusion Matrix')\n",
    "plt.show()"
   ]
  },
  {
   "cell_type": "code",
   "execution_count": 34,
   "id": "67029152",
   "metadata": {},
   "outputs": [
    {
     "name": "stdout",
     "output_type": "stream",
     "text": [
      "\n",
      "Feature Importance based on Logistic Regression Coefficients:\n",
      "              Feature  Coefficient\n",
      "3        TotalPrompts     0.059091\n",
      "0        StudentLevel     0.005638\n",
      "7  SatisfactionRating    -0.002951\n",
      "5  AI_AssistanceLevel    -0.013022\n",
      "4            TaskType    -0.026461\n",
      "2    SessionLengthMin    -0.027841\n",
      "1          Discipline    -0.027967\n",
      "6        FinalOutcome    -0.099544\n"
     ]
    }
   ],
   "source": [
    "feature_importance = pd.DataFrame({\n",
    "    'Feature': x.columns,\n",
    "    'Coefficient': model.coef_[0]\n",
    "}).sort_values(by='Coefficient', ascending=False)\n",
    "\n",
    "print(\"\\nFeature Importance based on Logistic Regression Coefficients:\")\n",
    "print(feature_importance)"
   ]
  },
  {
   "cell_type": "code",
   "execution_count": 35,
   "id": "593f8ed5",
   "metadata": {},
   "outputs": [
    {
     "data": {
      "image/png": "[encoded data removed]",
      "text/plain": [
       "<Figure size 1000x600 with 1 Axes>"
      ]
     },
     "metadata": {},
     "output_type": "display_data"
    }
   ],
   "source": [
    "plt.figure(figsize=(10, 6))\n",
    "sns.barplot(x='Coefficient', y='Feature', data=feature_importance)\n",
    "plt.title('Feature Importance in Logistic Regression Model')\n",
    "plt.xlabel('Coefficient Value')\n",
    "plt.ylabel('Feature')\n",
    "plt.tight_layout()\n",
    "plt.show()"
   ]
  },
  {
   "cell_type": "code",
   "execution_count": 36,
   "id": "ce0c62d2",
   "metadata": {},
   "outputs": [
    {
     "name": "stdout",
     "output_type": "stream",
     "text": [
      "\n",
      "Sample Prediction:\n",
      "Predicted Value: Reused\n",
      "Probability of Not Reused: 0.29\n",
      "Probability of Reused: 0.71\n"
     ]
    }
   ],
   "source": [
    "sample_data = x_test_scaled[0:1]\n",
    "sample_pred = model.predict(sample_data)\n",
    "sample_prob = model.predict_proba(sample_data)\n",
    "\n",
    "print(\"\\nSample Prediction:\")\n",
    "print(\"Predicted Value:\", \"Reused\" if sample_pred[0] == 1 else \"Not Reused\")\n",
    "print(f\"Probability of Not Reused: {sample_prob[0][0]:.2f}\")\n",
    "print(f\"Probability of Reused: {sample_prob[0][1]:.2f}\")\n"
   ]
  },
  {
   "cell_type": "code",
   "execution_count": null,
   "id": "4ffff2ff",
   "metadata": {},
   "outputs": [],
   "source": []
  }
 ],
 "metadata": {
  "kernelspec": {
   "display_name": "Python 3",
   "language": "python",
   "name": "python3"
  },
  "language_info": {
   "codemirror_mode": {
    "name": "ipython",
    "version": 3
   },
   "file_extension": ".py",
   "mimetype": "text/x-python",
   "name": "python",
   "nbconvert_exporter": "python",
   "pygments_lexer": "ipython3",
   "version": "3.10.0"
  }
 },
 "nbformat": 4,
 "nbformat_minor": 5
}
